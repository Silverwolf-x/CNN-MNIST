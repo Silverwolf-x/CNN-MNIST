{
 "cells": [
  {
   "cell_type": "code",
   "execution_count": null,
   "metadata": {},
   "outputs": [],
   "source": [
    "import numpy as np\n",
    "import pandas as pd\n",
    "from pandas import DataFrame as df\n",
    "p=print\n",
    "# 将上述list中每一项array拼接成一维的数组\n",
    "arr_list = [np.array(3.1914115, dtype=np.float32), np.array(2.9425068, dtype=np.float32), np.array(3.060446, dtype=np.float32), np.array(3.191684, dtype=np.float32)]\n",
    "concatenated_arr = np.vstack(arr_list)\n",
    "l1=[[11,12,13],[21,22,23]]\n",
    "l1=np.array(l1)\n",
    "l2=np.array([[31,32,33],[41,42,43]])\n",
    "print(l1,l1.shape)\n",
    "print(l2,l2.shape)\n",
    "# print(df(l))\n",
    "# m=np.concatenate([l1,l2],0)\n",
    "m=np.stack([l1,l2,l2],axis=1)\n",
    "p(m,m.shape)\n",
    "# arrays = [np.random.randn(3, 4) for _ in range(10)]\n",
    "# arrays=np.array(arrays)\n",
    "# print(arrays.shape)\n",
    "# m=np.stack(arrays,axis=-1)\n",
    "# p(m.shape)"
   ]
  },
  {
   "cell_type": "code",
   "execution_count": null,
   "metadata": {},
   "outputs": [],
   "source": [
    "import math\n",
    "import os\n",
    "import torch\n",
    "import torch.nn as nn\n",
    "from torch.utils.data import Dataset, DataLoader, random_split\n",
    "from torchvision import datasets,transforms\n",
    "import torchvision\n",
    "from tqdm import tqdm\n",
    "import numpy as np\n",
    "import pandas as pd\n",
    "import matplotlib.pyplot as plt\n",
    "import datetime\n",
    "# 防止torch包与Anaconda环境中的同一个文件出现了冲突，画不出图\n",
    "os.environ[\"KMP_DUPLICATE_LIB_OK\"]=\"TRUE\"\n",
    "train_data=datasets.MNIST(root='./',train=True,download=True)\n",
    "test_data=datasets.MNIST(root='./',train=False,download=True)\n",
    "\n",
    "x_train=train_data.data\n",
    "y_train=train_data.targets\n",
    "print(x_train.shape,y_train.shape)\n"
   ]
  },
  {
   "cell_type": "markdown",
   "metadata": {},
   "source": [
    "https://blog.csdn.net/weixin_55529678/article/details/128270833\n",
    "https://steven-cloud.blog.csdn.net/article/details/90815082?spm=1001.2101.3001.6650.1&utm_medium=distribute.pc_relevant.none-task-blog-2%7Edefault%7ECTRLIST%7ERate-1-90815082-blog-121672906.235%5Ev29%5Epc_relevant_default_base3&depth_1-utm_source=distribute.pc_relevant.none-task-blog-2%7Edefault%7ECTRLIST%7ERate-1-90815082-blog-121672906.235%5Ev29%5Epc_relevant_default_base3&utm_relevant_index=2"
   ]
  },
  {
   "cell_type": "code",
   "execution_count": 1,
   "metadata": {},
   "outputs": [
    {
     "name": "stdout",
     "output_type": "stream",
     "text": [
      "cpu\n",
      "MyModel(\n",
      "  (conv): Sequential(\n",
      "    (0): Conv2d(1, 6, kernel_size=(5, 5), stride=(1, 1))\n",
      "    (1): ReLU()\n",
      "    (2): MaxPool2d(kernel_size=(2, 2), stride=(2, 2), padding=0, dilation=1, ceil_mode=False)\n",
      "    (3): Conv2d(6, 12, kernel_size=(3, 3), stride=(1, 1))\n",
      "    (4): ReLU()\n",
      "    (5): MaxPool2d(kernel_size=(2, 2), stride=(2, 2), padding=0, dilation=1, ceil_mode=False)\n",
      "  )\n",
      "  (fc): Sequential(\n",
      "    (0): Linear(in_features=300, out_features=128, bias=True)\n",
      "    (1): BatchNorm1d(128, eps=1e-05, momentum=0.1, affine=True, track_running_stats=True)\n",
      "    (2): ReLU()\n",
      "    (3): Linear(in_features=128, out_features=32, bias=True)\n",
      "    (4): BatchNorm1d(32, eps=1e-05, momentum=0.1, affine=True, track_running_stats=True)\n",
      "    (5): ReLU()\n",
      "    (6): Linear(in_features=32, out_features=10, bias=True)\n",
      "  )\n",
      ")\n"
     ]
    },
    {
     "name": "stderr",
     "output_type": "stream",
     "text": [
      "  0%|                                                                       | 0/117 [00:00<?, ?it/s]"
     ]
    },
    {
     "name": "stdout",
     "output_type": "stream",
     "text": [
      "torch.Size([512, 1, 28, 28])\n",
      "torch.Size([512, 12, 5, 5])\n",
      "torch.Size([512, 10])\n"
     ]
    },
    {
     "name": "stderr",
     "output_type": "stream",
     "text": [
      "Epoch [0/2]:   1%|▎                                      | 1/117 [00:01<02:46,  1.44s/it, loss=2.38]"
     ]
    },
    {
     "name": "stdout",
     "output_type": "stream",
     "text": [
      "torch.Size([512, 1, 28, 28])\n",
      "torch.Size([512, 12, 5, 5])\n",
      "torch.Size([512, 10])\n"
     ]
    },
    {
     "name": "stderr",
     "output_type": "stream",
     "text": [
      "Epoch [0/2]:   2%|▋                                      | 2/117 [00:02<02:34,  1.34s/it, loss=2.42]"
     ]
    },
    {
     "name": "stdout",
     "output_type": "stream",
     "text": [
      "torch.Size([512, 1, 28, 28])\n",
      "torch.Size([512, 12, 5, 5])\n",
      "torch.Size([512, 10])\n"
     ]
    },
    {
     "name": "stderr",
     "output_type": "stream",
     "text": [
      "Epoch [0/2]:   3%|█                                      | 3/117 [00:04<02:32,  1.34s/it, loss=2.39]"
     ]
    },
    {
     "name": "stdout",
     "output_type": "stream",
     "text": [
      "torch.Size([512, 1, 28, 28])\n",
      "torch.Size([512, 12, 5, 5])\n",
      "torch.Size([512, 10])\n"
     ]
    },
    {
     "name": "stderr",
     "output_type": "stream",
     "text": [
      "Epoch [0/2]:   3%|█▎                                     | 4/117 [00:05<02:44,  1.45s/it, loss=2.37]"
     ]
    },
    {
     "name": "stdout",
     "output_type": "stream",
     "text": [
      "torch.Size([512, 1, 28, 28])\n",
      "torch.Size([512, 12, 5, 5])\n",
      "torch.Size([512, 10])\n"
     ]
    },
    {
     "name": "stderr",
     "output_type": "stream",
     "text": [
      "Epoch [0/2]:   4%|█▋                                     | 5/117 [00:06<02:34,  1.38s/it, loss=2.42]"
     ]
    },
    {
     "name": "stdout",
     "output_type": "stream",
     "text": [
      "torch.Size([512, 1, 28, 28])\n",
      "torch.Size([512, 12, 5, 5])\n",
      "torch.Size([512, 10])\n"
     ]
    },
    {
     "name": "stderr",
     "output_type": "stream",
     "text": [
      "Epoch [0/2]:   5%|██                                     | 6/117 [00:08<02:29,  1.35s/it, loss=2.38]"
     ]
    },
    {
     "name": "stdout",
     "output_type": "stream",
     "text": [
      "torch.Size([512, 1, 28, 28])\n",
      "torch.Size([512, 12, 5, 5])\n",
      "torch.Size([512, 10])\n"
     ]
    },
    {
     "name": "stderr",
     "output_type": "stream",
     "text": [
      "Epoch [0/2]:   6%|██▍                                     | 7/117 [00:09<02:28,  1.35s/it, loss=2.4]"
     ]
    },
    {
     "name": "stdout",
     "output_type": "stream",
     "text": [
      "torch.Size([512, 1, 28, 28])\n",
      "torch.Size([512, 12, 5, 5])\n",
      "torch.Size([512, 10])\n"
     ]
    },
    {
     "name": "stderr",
     "output_type": "stream",
     "text": [
      "Epoch [0/2]:   7%|██▋                                    | 8/117 [00:10<02:24,  1.33s/it, loss=2.38]"
     ]
    },
    {
     "name": "stdout",
     "output_type": "stream",
     "text": [
      "torch.Size([512, 1, 28, 28])\n",
      "torch.Size([512, 12, 5, 5])\n",
      "torch.Size([512, 10])\n"
     ]
    },
    {
     "name": "stderr",
     "output_type": "stream",
     "text": [
      "Epoch [0/2]:   8%|███                                    | 9/117 [00:12<02:21,  1.31s/it, loss=2.44]"
     ]
    },
    {
     "name": "stdout",
     "output_type": "stream",
     "text": [
      "torch.Size([512, 1, 28, 28])\n",
      "torch.Size([512, 12, 5, 5])\n",
      "torch.Size([512, 10])\n"
     ]
    },
    {
     "name": "stderr",
     "output_type": "stream",
     "text": [
      "Epoch [0/2]:   9%|███▏                                  | 10/117 [00:13<02:18,  1.29s/it, loss=2.44]"
     ]
    },
    {
     "name": "stdout",
     "output_type": "stream",
     "text": [
      "torch.Size([512, 1, 28, 28])\n",
      "torch.Size([512, 12, 5, 5])\n",
      "torch.Size([512, 10])\n"
     ]
    },
    {
     "name": "stderr",
     "output_type": "stream",
     "text": [
      "Epoch [0/2]:   9%|███▌                                  | 11/117 [00:15<02:28,  1.40s/it, loss=2.43]"
     ]
    },
    {
     "name": "stdout",
     "output_type": "stream",
     "text": [
      "torch.Size([512, 1, 28, 28])\n",
      "torch.Size([512, 12, 5, 5])\n",
      "torch.Size([512, 10])\n"
     ]
    },
    {
     "name": "stderr",
     "output_type": "stream",
     "text": [
      "Epoch [0/2]:  10%|████                                   | 12/117 [00:16<02:21,  1.35s/it, loss=2.4]"
     ]
    },
    {
     "name": "stdout",
     "output_type": "stream",
     "text": [
      "torch.Size([512, 1, 28, 28])\n",
      "torch.Size([512, 12, 5, 5])\n",
      "torch.Size([512, 10])\n"
     ]
    },
    {
     "name": "stderr",
     "output_type": "stream",
     "text": [
      "Epoch [0/2]:  11%|████▏                                 | 13/117 [00:17<02:24,  1.39s/it, loss=2.43]"
     ]
    },
    {
     "name": "stdout",
     "output_type": "stream",
     "text": [
      "torch.Size([512, 1, 28, 28])\n",
      "torch.Size([512, 12, 5, 5])\n",
      "torch.Size([512, 10])\n"
     ]
    },
    {
     "name": "stderr",
     "output_type": "stream",
     "text": [
      "Epoch [0/2]:  12%|████▌                                 | 14/117 [00:19<02:22,  1.39s/it, loss=2.39]"
     ]
    },
    {
     "name": "stdout",
     "output_type": "stream",
     "text": [
      "torch.Size([512, 1, 28, 28])\n",
      "torch.Size([512, 12, 5, 5])\n",
      "torch.Size([512, 10])\n"
     ]
    },
    {
     "name": "stderr",
     "output_type": "stream",
     "text": [
      "Epoch [0/2]:  13%|████▊                                 | 15/117 [00:20<02:21,  1.39s/it, loss=2.42]"
     ]
    },
    {
     "name": "stdout",
     "output_type": "stream",
     "text": [
      "torch.Size([512, 1, 28, 28])\n",
      "torch.Size([512, 12, 5, 5])\n",
      "torch.Size([512, 10])\n"
     ]
    },
    {
     "name": "stderr",
     "output_type": "stream",
     "text": [
      "Epoch [0/2]:  14%|█████▎                                 | 16/117 [00:21<02:13,  1.32s/it, loss=2.4]"
     ]
    },
    {
     "name": "stdout",
     "output_type": "stream",
     "text": [
      "torch.Size([512, 1, 28, 28])\n",
      "torch.Size([512, 12, 5, 5])\n",
      "torch.Size([512, 10])\n"
     ]
    },
    {
     "name": "stderr",
     "output_type": "stream",
     "text": [
      "Epoch [0/2]:  15%|█████▌                                | 17/117 [00:23<02:18,  1.39s/it, loss=2.41]"
     ]
    },
    {
     "name": "stdout",
     "output_type": "stream",
     "text": [
      "torch.Size([512, 1, 28, 28])\n",
      "torch.Size([512, 12, 5, 5])\n",
      "torch.Size([512, 10])\n"
     ]
    },
    {
     "name": "stderr",
     "output_type": "stream",
     "text": [
      "Epoch [0/2]:  15%|█████▊                                | 18/117 [00:24<02:16,  1.38s/it, loss=2.41]"
     ]
    },
    {
     "name": "stdout",
     "output_type": "stream",
     "text": [
      "torch.Size([512, 1, 28, 28])\n",
      "torch.Size([512, 12, 5, 5])\n",
      "torch.Size([512, 10])\n"
     ]
    },
    {
     "name": "stderr",
     "output_type": "stream",
     "text": [
      "Epoch [0/2]:  16%|██████▏                               | 19/117 [00:26<02:18,  1.41s/it, loss=2.44]"
     ]
    },
    {
     "name": "stdout",
     "output_type": "stream",
     "text": [
      "torch.Size([512, 1, 28, 28])\n",
      "torch.Size([512, 12, 5, 5])\n",
      "torch.Size([512, 10])\n"
     ]
    },
    {
     "name": "stderr",
     "output_type": "stream",
     "text": [
      "Epoch [0/2]:  17%|██████▍                               | 20/117 [00:27<02:20,  1.44s/it, loss=2.39]"
     ]
    },
    {
     "name": "stdout",
     "output_type": "stream",
     "text": [
      "torch.Size([512, 1, 28, 28])\n",
      "torch.Size([512, 12, 5, 5])\n",
      "torch.Size([512, 10])\n"
     ]
    },
    {
     "name": "stderr",
     "output_type": "stream",
     "text": [
      "Epoch [0/2]:  18%|███████                                | 21/117 [00:29<02:42,  1.69s/it, loss=2.4]"
     ]
    },
    {
     "name": "stdout",
     "output_type": "stream",
     "text": [
      "torch.Size([512, 1, 28, 28])\n",
      "torch.Size([512, 12, 5, 5])\n",
      "torch.Size([512, 10])\n"
     ]
    },
    {
     "name": "stderr",
     "output_type": "stream",
     "text": [
      "Epoch [0/2]:  19%|███████▏                              | 22/117 [00:31<02:27,  1.56s/it, loss=2.43]"
     ]
    },
    {
     "name": "stdout",
     "output_type": "stream",
     "text": [
      "torch.Size([512, 1, 28, 28])\n",
      "torch.Size([512, 12, 5, 5])\n",
      "torch.Size([512, 10])\n"
     ]
    },
    {
     "name": "stderr",
     "output_type": "stream",
     "text": [
      "Epoch [0/2]:  20%|███████▍                              | 23/117 [00:32<02:24,  1.53s/it, loss=2.39]"
     ]
    },
    {
     "name": "stdout",
     "output_type": "stream",
     "text": [
      "torch.Size([512, 1, 28, 28])\n",
      "torch.Size([512, 12, 5, 5])\n",
      "torch.Size([512, 10])\n"
     ]
    },
    {
     "name": "stderr",
     "output_type": "stream",
     "text": [
      "Epoch [0/2]:  21%|████████                               | 24/117 [00:34<02:25,  1.57s/it, loss=2.4]"
     ]
    },
    {
     "name": "stdout",
     "output_type": "stream",
     "text": [
      "torch.Size([512, 1, 28, 28])\n",
      "torch.Size([512, 12, 5, 5])\n",
      "torch.Size([512, 10])\n"
     ]
    },
    {
     "name": "stderr",
     "output_type": "stream",
     "text": [
      "Epoch [0/2]:  21%|████████                              | 25/117 [00:41<04:57,  3.23s/it, loss=2.43]"
     ]
    },
    {
     "name": "stdout",
     "output_type": "stream",
     "text": [
      "torch.Size([512, 1, 28, 28])\n",
      "torch.Size([512, 12, 5, 5])\n",
      "torch.Size([512, 10])\n"
     ]
    },
    {
     "name": "stderr",
     "output_type": "stream",
     "text": [
      "Epoch [0/2]:  22%|████████▍                             | 26/117 [00:43<04:29,  2.96s/it, loss=2.42]"
     ]
    },
    {
     "name": "stdout",
     "output_type": "stream",
     "text": [
      "torch.Size([512, 1, 28, 28])\n",
      "torch.Size([512, 12, 5, 5])\n",
      "torch.Size([512, 10])\n"
     ]
    },
    {
     "name": "stderr",
     "output_type": "stream",
     "text": [
      "Epoch [0/2]:  23%|████████▊                             | 27/117 [00:45<04:07,  2.75s/it, loss=2.36]"
     ]
    },
    {
     "name": "stdout",
     "output_type": "stream",
     "text": [
      "torch.Size([512, 1, 28, 28])\n",
      "torch.Size([512, 12, 5, 5])\n",
      "torch.Size([512, 10])\n"
     ]
    },
    {
     "name": "stderr",
     "output_type": "stream",
     "text": [
      "Epoch [0/2]:  24%|█████████                             | 28/117 [00:47<03:38,  2.45s/it, loss=2.38]"
     ]
    },
    {
     "name": "stdout",
     "output_type": "stream",
     "text": [
      "torch.Size([512, 1, 28, 28])\n",
      "torch.Size([512, 12, 5, 5])\n",
      "torch.Size([512, 10])\n"
     ]
    },
    {
     "name": "stderr",
     "output_type": "stream",
     "text": [
      "Epoch [0/2]:  25%|█████████▍                            | 29/117 [00:48<03:03,  2.08s/it, loss=2.38]"
     ]
    },
    {
     "name": "stdout",
     "output_type": "stream",
     "text": [
      "torch.Size([512, 1, 28, 28])\n",
      "torch.Size([512, 12, 5, 5])\n",
      "torch.Size([512, 10])\n"
     ]
    },
    {
     "name": "stderr",
     "output_type": "stream",
     "text": [
      "Epoch [0/2]:  26%|█████████▋                            | 30/117 [00:50<02:56,  2.03s/it, loss=2.42]"
     ]
    },
    {
     "name": "stdout",
     "output_type": "stream",
     "text": [
      "torch.Size([512, 1, 28, 28])\n",
      "torch.Size([512, 12, 5, 5])\n",
      "torch.Size([512, 10])\n"
     ]
    },
    {
     "name": "stderr",
     "output_type": "stream",
     "text": [
      "Epoch [0/2]:  26%|██████████                            | 31/117 [00:52<02:33,  1.79s/it, loss=2.42]"
     ]
    },
    {
     "name": "stdout",
     "output_type": "stream",
     "text": [
      "torch.Size([512, 1, 28, 28])\n",
      "torch.Size([512, 12, 5, 5])\n",
      "torch.Size([512, 10])\n"
     ]
    },
    {
     "name": "stderr",
     "output_type": "stream",
     "text": [
      "Epoch [0/2]:  27%|██████████▋                            | 32/117 [00:53<02:24,  1.70s/it, loss=2.4]"
     ]
    },
    {
     "name": "stdout",
     "output_type": "stream",
     "text": [
      "torch.Size([512, 1, 28, 28])\n",
      "torch.Size([512, 12, 5, 5])\n",
      "torch.Size([512, 10])\n"
     ]
    },
    {
     "name": "stderr",
     "output_type": "stream",
     "text": [
      "Epoch [0/2]:  28%|██████████▋                           | 33/117 [00:54<02:12,  1.58s/it, loss=2.38]"
     ]
    },
    {
     "name": "stdout",
     "output_type": "stream",
     "text": [
      "torch.Size([512, 1, 28, 28])\n",
      "torch.Size([512, 12, 5, 5])\n",
      "torch.Size([512, 10])\n"
     ]
    },
    {
     "name": "stderr",
     "output_type": "stream",
     "text": [
      "Epoch [0/2]:  29%|███████████                           | 34/117 [00:56<02:04,  1.50s/it, loss=2.37]"
     ]
    },
    {
     "name": "stdout",
     "output_type": "stream",
     "text": [
      "torch.Size([512, 1, 28, 28])\n",
      "torch.Size([512, 12, 5, 5])\n",
      "torch.Size([512, 10])\n"
     ]
    },
    {
     "name": "stderr",
     "output_type": "stream",
     "text": [
      "Epoch [0/2]:  30%|███████████▋                           | 35/117 [00:57<01:55,  1.40s/it, loss=2.4]"
     ]
    },
    {
     "name": "stdout",
     "output_type": "stream",
     "text": [
      "torch.Size([512, 1, 28, 28])\n",
      "torch.Size([512, 12, 5, 5])\n",
      "torch.Size([512, 10])\n"
     ]
    },
    {
     "name": "stderr",
     "output_type": "stream",
     "text": [
      "Epoch [0/2]:  31%|███████████▋                          | 36/117 [00:58<01:48,  1.34s/it, loss=2.37]"
     ]
    },
    {
     "name": "stdout",
     "output_type": "stream",
     "text": [
      "torch.Size([512, 1, 28, 28])\n",
      "torch.Size([512, 12, 5, 5])\n",
      "torch.Size([512, 10])\n"
     ]
    },
    {
     "name": "stderr",
     "output_type": "stream",
     "text": [
      "Epoch [0/2]:  32%|████████████▎                          | 37/117 [01:00<02:05,  1.57s/it, loss=2.4]"
     ]
    },
    {
     "name": "stdout",
     "output_type": "stream",
     "text": [
      "torch.Size([512, 1, 28, 28])\n",
      "torch.Size([512, 12, 5, 5])\n",
      "torch.Size([512, 10])\n"
     ]
    },
    {
     "name": "stderr",
     "output_type": "stream",
     "text": [
      "Epoch [0/2]:  32%|████████████▎                         | 38/117 [01:01<01:59,  1.52s/it, loss=2.41]"
     ]
    },
    {
     "name": "stdout",
     "output_type": "stream",
     "text": [
      "torch.Size([512, 1, 28, 28])\n",
      "torch.Size([512, 12, 5, 5])\n",
      "torch.Size([512, 10])\n"
     ]
    },
    {
     "name": "stderr",
     "output_type": "stream",
     "text": [
      "Epoch [0/2]:  33%|████████████▋                         | 39/117 [01:03<01:51,  1.43s/it, loss=2.42]"
     ]
    },
    {
     "name": "stdout",
     "output_type": "stream",
     "text": [
      "torch.Size([512, 1, 28, 28])\n",
      "torch.Size([512, 12, 5, 5])\n",
      "torch.Size([512, 10])\n"
     ]
    },
    {
     "name": "stderr",
     "output_type": "stream",
     "text": [
      "Epoch [0/2]:  34%|████████████▉                         | 40/117 [01:04<01:47,  1.39s/it, loss=2.43]"
     ]
    },
    {
     "name": "stdout",
     "output_type": "stream",
     "text": [
      "torch.Size([512, 1, 28, 28])\n",
      "torch.Size([512, 12, 5, 5])\n",
      "torch.Size([512, 10])\n"
     ]
    },
    {
     "name": "stderr",
     "output_type": "stream",
     "text": [
      "Epoch [0/2]:  35%|█████████████▎                        | 41/117 [01:05<01:42,  1.34s/it, loss=2.35]"
     ]
    },
    {
     "name": "stdout",
     "output_type": "stream",
     "text": [
      "torch.Size([512, 1, 28, 28])\n",
      "torch.Size([512, 12, 5, 5])\n",
      "torch.Size([512, 10])\n"
     ]
    },
    {
     "name": "stderr",
     "output_type": "stream",
     "text": [
      "Epoch [0/2]:  36%|█████████████▋                        | 42/117 [01:06<01:38,  1.31s/it, loss=2.38]"
     ]
    },
    {
     "name": "stdout",
     "output_type": "stream",
     "text": [
      "torch.Size([512, 1, 28, 28])\n",
      "torch.Size([512, 12, 5, 5])\n",
      "torch.Size([512, 10])\n"
     ]
    },
    {
     "name": "stderr",
     "output_type": "stream",
     "text": [
      "Epoch [0/2]:  37%|█████████████▉                        | 43/117 [01:08<01:34,  1.28s/it, loss=2.38]"
     ]
    },
    {
     "name": "stdout",
     "output_type": "stream",
     "text": [
      "torch.Size([512, 1, 28, 28])\n",
      "torch.Size([512, 12, 5, 5])\n",
      "torch.Size([512, 10])\n"
     ]
    },
    {
     "name": "stderr",
     "output_type": "stream",
     "text": [
      "Epoch [0/2]:  38%|██████████████▎                       | 44/117 [01:09<01:31,  1.25s/it, loss=2.42]"
     ]
    },
    {
     "name": "stdout",
     "output_type": "stream",
     "text": [
      "torch.Size([512, 1, 28, 28])\n",
      "torch.Size([512, 12, 5, 5])\n",
      "torch.Size([512, 10])\n"
     ]
    },
    {
     "name": "stderr",
     "output_type": "stream",
     "text": [
      "Epoch [0/2]:  38%|██████████████▌                       | 45/117 [01:10<01:30,  1.26s/it, loss=2.36]"
     ]
    },
    {
     "name": "stdout",
     "output_type": "stream",
     "text": [
      "torch.Size([512, 1, 28, 28])\n",
      "torch.Size([512, 12, 5, 5])\n",
      "torch.Size([512, 10])\n"
     ]
    },
    {
     "name": "stderr",
     "output_type": "stream",
     "text": [
      "Epoch [0/2]:  39%|██████████████▉                       | 46/117 [01:11<01:30,  1.28s/it, loss=2.41]"
     ]
    },
    {
     "name": "stdout",
     "output_type": "stream",
     "text": [
      "torch.Size([512, 1, 28, 28])\n",
      "torch.Size([512, 12, 5, 5])\n",
      "torch.Size([512, 10])\n"
     ]
    },
    {
     "name": "stderr",
     "output_type": "stream",
     "text": [
      "Epoch [0/2]:  40%|███████████████▎                      | 47/117 [01:13<01:28,  1.26s/it, loss=2.43]"
     ]
    },
    {
     "name": "stdout",
     "output_type": "stream",
     "text": [
      "torch.Size([512, 1, 28, 28])\n",
      "torch.Size([512, 12, 5, 5])\n",
      "torch.Size([512, 10])\n"
     ]
    },
    {
     "name": "stderr",
     "output_type": "stream",
     "text": [
      "Epoch [0/2]:  41%|███████████████▌                      | 48/117 [01:14<01:30,  1.31s/it, loss=2.41]"
     ]
    },
    {
     "name": "stdout",
     "output_type": "stream",
     "text": [
      "torch.Size([512, 1, 28, 28])\n",
      "torch.Size([512, 12, 5, 5])\n",
      "torch.Size([512, 10])\n"
     ]
    },
    {
     "name": "stderr",
     "output_type": "stream",
     "text": [
      "Epoch [0/2]:  42%|███████████████▉                      | 49/117 [01:15<01:26,  1.28s/it, loss=2.39]"
     ]
    },
    {
     "name": "stdout",
     "output_type": "stream",
     "text": [
      "torch.Size([512, 1, 28, 28])\n",
      "torch.Size([512, 12, 5, 5])\n",
      "torch.Size([512, 10])\n"
     ]
    },
    {
     "name": "stderr",
     "output_type": "stream",
     "text": [
      "Epoch [0/2]:  43%|████████████████▏                     | 50/117 [01:17<01:27,  1.30s/it, loss=2.38]"
     ]
    },
    {
     "name": "stdout",
     "output_type": "stream",
     "text": [
      "torch.Size([512, 1, 28, 28])\n",
      "torch.Size([512, 12, 5, 5])\n",
      "torch.Size([512, 10])\n"
     ]
    },
    {
     "name": "stderr",
     "output_type": "stream",
     "text": [
      "Epoch [0/2]:  44%|█████████████████                      | 51/117 [01:20<02:07,  1.93s/it, loss=2.4]"
     ]
    },
    {
     "name": "stdout",
     "output_type": "stream",
     "text": [
      "torch.Size([512, 1, 28, 28])\n",
      "torch.Size([512, 12, 5, 5])\n",
      "torch.Size([512, 10])\n"
     ]
    },
    {
     "name": "stderr",
     "output_type": "stream",
     "text": [
      "Epoch [0/2]:  44%|████████████████▉                     | 52/117 [01:21<01:52,  1.73s/it, loss=2.38]"
     ]
    },
    {
     "name": "stdout",
     "output_type": "stream",
     "text": [
      "torch.Size([512, 1, 28, 28])\n",
      "torch.Size([512, 12, 5, 5])\n",
      "torch.Size([512, 10])\n"
     ]
    },
    {
     "name": "stderr",
     "output_type": "stream",
     "text": [
      "Epoch [0/2]:  45%|█████████████████▋                     | 53/117 [01:23<01:48,  1.70s/it, loss=2.4]"
     ]
    },
    {
     "name": "stdout",
     "output_type": "stream",
     "text": [
      "torch.Size([512, 1, 28, 28])\n",
      "torch.Size([512, 12, 5, 5])\n",
      "torch.Size([512, 10])\n"
     ]
    },
    {
     "name": "stderr",
     "output_type": "stream",
     "text": [
      "Epoch [0/2]:  46%|█████████████████▌                    | 54/117 [01:24<01:41,  1.61s/it, loss=2.37]"
     ]
    },
    {
     "name": "stdout",
     "output_type": "stream",
     "text": [
      "torch.Size([512, 1, 28, 28])\n",
      "torch.Size([512, 12, 5, 5])\n",
      "torch.Size([512, 10])\n"
     ]
    },
    {
     "name": "stderr",
     "output_type": "stream",
     "text": [
      "Epoch [0/2]:  47%|█████████████████▊                    | 55/117 [01:26<01:32,  1.50s/it, loss=2.44]"
     ]
    },
    {
     "name": "stdout",
     "output_type": "stream",
     "text": [
      "torch.Size([512, 1, 28, 28])\n",
      "torch.Size([512, 12, 5, 5])\n",
      "torch.Size([512, 10])\n"
     ]
    },
    {
     "name": "stderr",
     "output_type": "stream",
     "text": [
      "Epoch [0/2]:  48%|██████████████████▏                   | 56/117 [01:27<01:25,  1.40s/it, loss=2.42]"
     ]
    },
    {
     "name": "stdout",
     "output_type": "stream",
     "text": [
      "torch.Size([512, 1, 28, 28])\n",
      "torch.Size([512, 12, 5, 5])\n",
      "torch.Size([512, 10])\n"
     ]
    },
    {
     "name": "stderr",
     "output_type": "stream",
     "text": [
      "Epoch [0/2]:  49%|██████████████████▌                   | 57/117 [01:28<01:21,  1.36s/it, loss=2.42]"
     ]
    },
    {
     "name": "stdout",
     "output_type": "stream",
     "text": [
      "torch.Size([512, 1, 28, 28])\n",
      "torch.Size([512, 12, 5, 5])\n",
      "torch.Size([512, 10])\n"
     ]
    },
    {
     "name": "stderr",
     "output_type": "stream",
     "text": [
      "Epoch [0/2]:  50%|██████████████████▊                   | 58/117 [01:29<01:16,  1.30s/it, loss=2.42]"
     ]
    },
    {
     "name": "stdout",
     "output_type": "stream",
     "text": [
      "torch.Size([512, 1, 28, 28])\n",
      "torch.Size([512, 12, 5, 5])\n",
      "torch.Size([512, 10])\n"
     ]
    },
    {
     "name": "stderr",
     "output_type": "stream",
     "text": [
      "Epoch [0/2]:  50%|███████████████████▏                  | 59/117 [01:30<01:12,  1.25s/it, loss=2.39]"
     ]
    },
    {
     "name": "stdout",
     "output_type": "stream",
     "text": [
      "torch.Size([512, 1, 28, 28])\n",
      "torch.Size([512, 12, 5, 5])\n",
      "torch.Size([512, 10])\n"
     ]
    },
    {
     "name": "stderr",
     "output_type": "stream",
     "text": [
      "Epoch [0/2]:  51%|███████████████████▍                  | 60/117 [01:32<01:11,  1.25s/it, loss=2.42]"
     ]
    },
    {
     "name": "stdout",
     "output_type": "stream",
     "text": [
      "torch.Size([512, 1, 28, 28])\n",
      "torch.Size([512, 12, 5, 5])\n",
      "torch.Size([512, 10])\n"
     ]
    },
    {
     "name": "stderr",
     "output_type": "stream",
     "text": [
      "Epoch [0/2]:  52%|███████████████████▊                  | 61/117 [01:33<01:09,  1.23s/it, loss=2.41]"
     ]
    },
    {
     "name": "stdout",
     "output_type": "stream",
     "text": [
      "torch.Size([512, 1, 28, 28])\n",
      "torch.Size([512, 12, 5, 5])\n",
      "torch.Size([512, 10])\n"
     ]
    },
    {
     "name": "stderr",
     "output_type": "stream",
     "text": [
      "Epoch [0/2]:  53%|████████████████████▏                 | 62/117 [01:34<01:06,  1.21s/it, loss=2.38]"
     ]
    },
    {
     "name": "stdout",
     "output_type": "stream",
     "text": [
      "torch.Size([512, 1, 28, 28])\n",
      "torch.Size([512, 12, 5, 5])\n",
      "torch.Size([512, 10])\n"
     ]
    },
    {
     "name": "stderr",
     "output_type": "stream",
     "text": [
      "Epoch [0/2]:  54%|████████████████████▍                 | 63/117 [01:35<01:03,  1.18s/it, loss=2.38]"
     ]
    },
    {
     "name": "stdout",
     "output_type": "stream",
     "text": [
      "torch.Size([512, 1, 28, 28])\n",
      "torch.Size([512, 12, 5, 5])\n",
      "torch.Size([512, 10])\n"
     ]
    },
    {
     "name": "stderr",
     "output_type": "stream",
     "text": [
      "                                                                                                    \r"
     ]
    }
   ],
   "source": [
    "# !/usr/bin/env python3\n",
    "# -*- coding: utf-8 -*-\n",
    "'''\n",
    "@ author: 何雨轩\n",
    "@ title: homework 2: MINST\n",
    "@ description:预测图片分类\n",
    "MNIST 数据集来自美国国家标准与技术研究所, National Institute of Standards and Technology (NIST).\n",
    "使用卷积神经网络CNN，分类交叉熵Cross-Entropy做损失函数，量SGD做优化\n",
    "器做图片的分类\n",
    "net的output是分类的数目，先用classes储存所有类别，之后用\n",
    "torch.max(pred,dim=1)[1]返回分类可能性最大的那个类的index\n",
    "\n",
    "softmax()是多分类的logistic，用Cross-Entropy做损失函数\n",
    "@ v0.1: 2023-04-15\n",
    "自带dataset的函数：len(s)查看数据量,s.data查看x数据,s.targets查看y\n",
    "回顾TensorDataset(x,y):把tensor打包为dataset\n",
    "torch.FloatTensor(numpy)，把numpy转化为小数点形式的tensor\n",
    "\n",
    "\n",
    "'''\n",
    "import math\n",
    "import os\n",
    "import torch\n",
    "import torch.nn as nn\n",
    "from torch.utils.data import TensorDataset, DataLoader, random_split\n",
    "from torchvision import datasets, transforms\n",
    "from tqdm import tqdm\n",
    "import numpy as np\n",
    "import pandas as pd\n",
    "import matplotlib.pyplot as plt\n",
    "import datetime\n",
    "# 防止torch包与Anaconda环境中的同一个文件出现了冲突，画不出图\n",
    "os.environ[\"KMP_DUPLICATE_LIB_OK\"] = \"TRUE\"\n",
    "\n",
    "\n",
    "def same_seed(seed):\n",
    "    '''固定seed保证复现'''\n",
    "    torch.manual_seed(seed)\n",
    "    np.random.seed(seed)\n",
    "    if torch.cuda.is_available():\n",
    "        torch.cuda.manual_seed_all(seed)\n",
    "\n",
    "\n",
    "def split(x, y, valid_ratio):\n",
    "    '''拆分为train和valid'''\n",
    "    n_valid = int(len(x) * valid_ratio)\n",
    "    n_train = len(x) - n_valid\n",
    "    x_train, x_valid = random_split(x, [n_train, n_valid],\n",
    "    torch.Generator().manual_seed(config.seed))\n",
    "    y_train, y_valid = random_split(y, [n_train, n_valid],\n",
    "    torch.Generator().manual_seed(config.seed))\n",
    "    L=list(map(np.array,[x_train, y_train, x_valid, y_valid]))\n",
    "    return map(torch.FloatTensor, L)\n",
    "\n",
    "\n",
    "class MyModel(nn.Module):\n",
    "    '''定义模型\n",
    "    * input_size: 自变量维度'''\n",
    "\n",
    "    def __init__(self):\n",
    "        super(MyModel, self).__init__()\n",
    "        self.conv = nn.Sequential(# (1,28,28)\n",
    "            nn.Conv2d(in_channels=1, out_channels=6, kernel_size=(5, 5)),nn.ReLU(),# (6,24,24)\n",
    "            nn.MaxPool2d((2,2)),# (6,12,12)\n",
    "            nn.Conv2d(6, 12, 3),nn.ReLU(),# (12,10,10)\n",
    "            nn.MaxPool2d((2,2))# (12,5,5)\n",
    "        )\n",
    "\n",
    "        self.fc = nn.Sequential(\n",
    "            nn.Linear(12*5*5, 128),nn.BatchNorm1d(128), # 归一化\n",
    "            nn.ReLU(),\n",
    "            nn.Linear(128, 32), nn.BatchNorm1d(32),\n",
    "            nn.ReLU(),\n",
    "            nn.Linear(32, 10))\n",
    "\n",
    "    def forward(self, x):\n",
    "        print(x.shape)\n",
    "        x = self.conv(x)\n",
    "        print(x.shape)\n",
    "        x = x.view(-1,12*5*5)\n",
    "        x = self.fc(x)\n",
    "        print(x.shape)\n",
    "        exit(0)\n",
    "        return x\n",
    "\n",
    "\n",
    "def trainer(train_loader, valid_loader, model):\n",
    "    #===prepare===\n",
    "    criterion = torch.nn.CrossEntropyLoss()\n",
    "    optimizer = torch.optim.SGD(model.parameters(), lr=config.learning_rate)\n",
    "    best_loss = math.inf\n",
    "    record_train_loss = []\n",
    "    record_valid_loss = []\n",
    "\n",
    "    for epoch in range(config.n_epoches):\n",
    "        #===train mode===\n",
    "        model.train()\n",
    "        loss_record = []\n",
    "        train_loop = tqdm(train_loader, position=0, ncols=100, leave=False)\n",
    "        for x, y in train_loop:\n",
    "            x, y = x.to(config.device), y.to(config.device)\n",
    "            y_pred = model(x)\n",
    "            loss = criterion(y_pred, y)\n",
    "            # 清零梯度，反向传播，更新权重\n",
    "            optimizer.zero_grad()\n",
    "            loss.backward()\n",
    "            optimizer.step()\n",
    "            # 进度条设置\n",
    "            train_loop.set_description(f'Epoch [{epoch}/{config.n_epoches}]')\n",
    "            train_loop.set_postfix({'loss': loss.item()})\n",
    "            loss_record.append(loss.item())\n",
    "        record_train_loss.append(np.mean(loss_record))\n",
    "\n",
    "        #===evaluate mode===\n",
    "        model.eval()\n",
    "        loss_record = []\n",
    "        for x, y in valid_loader:\n",
    "            x, y = x.to(config.device), y.to(config.device)\n",
    "            with torch.no_grad():  # 减少内存损耗\n",
    "                pred = model(x)\n",
    "                loss = criterion(pred, y)\n",
    "            loss_record.append(loss.item())\n",
    "        record_valid_loss.append(np.mean(loss_record))\n",
    "\n",
    "        #===early stopping===\n",
    "        if record_valid_loss[-1] < best_loss:\n",
    "            best_loss = record_valid_loss[-1]\n",
    "            print(f'Now model with loss {best_loss:.3f}... from epoch {epoch}')\n",
    "            early_stop_count = 0\n",
    "        else:\n",
    "            early_stop_count += 1\n",
    "        if early_stop_count >= config.early_stop:\n",
    "            print(f'Model is not improving for {config.early_stop} epoches. The last epoch is {epoch}.')\n",
    "            break\n",
    "    torch.save(model.state_dict(), config.save_model(best_loss))\n",
    "    print(f'Saving model with loss {best_loss:.3f}... from epoch {epoch}')\n",
    "    return record_train_loss, record_valid_loss, best_loss\n",
    "\n",
    "\n",
    "def loss_plot(train_loss, valid_loss):\n",
    "    '''画损失图，训练误差和泛化误差'''\n",
    "    plt.figure()\n",
    "    plt.plot(train_loss, label='train_loss')\n",
    "    plt.plot(valid_loss, label='valid_loss')\n",
    "    plt.yscale('log')\n",
    "    plt.xlabel('epoch')\n",
    "    plt.ylabel('loss')\n",
    "    plt.title('training loss')\n",
    "    plt.legend()\n",
    "    plt.savefig(config.save('training loss.png'))\n",
    "    plt.show()\n",
    "\n",
    "\n",
    "def predict(test_data, model):\n",
    "    '''注意这里载入data不是loader一批批载入\n",
    "    返回pred的值，错误率，错误的坐标'''\n",
    "    model.eval()\n",
    "    preds = []\n",
    "    incorrect_index = []\n",
    "    for i, x, y in tqdm(enumerate(test_data), ncols=50):\n",
    "        x, y = x.to(config.device), y.to(config.device)\n",
    "        with torch.no_grad():\n",
    "            output = model(x)\n",
    "            _, y_pred = torch.max(output, 1)\n",
    "            if (y_pred != y):\n",
    "                incorrect_index.append(i)\n",
    "    return preds, len(incorrect_index) / len(test_data), incorrect_index\n",
    "\n",
    "\n",
    "class config:\n",
    "    '''超参数设定，用`print(pd.DataFrame([config.__dict__]))`查看当前参数'''\n",
    "\n",
    "    def __init__(self):\n",
    "        self.device = 'cuda' if torch.cuda.is_available() else 'cpu'\n",
    "        self.seed = 45\n",
    "        self.batch_size = 512\n",
    "        self.valid_ratio = 0.1\n",
    "        self.folder = 'run'\n",
    "        #-==Important Hyperparameters===\n",
    "        self.early_stop = 3000\n",
    "        self.learning_rate = 1e-5\n",
    "        self.n_epoches = 2\n",
    "\n",
    "    def save(self, path: str):\n",
    "        if not os.path.exists(self.folder):\n",
    "            os.makedirs(self.folder)\n",
    "        return os.path.join(self.folder, path)\n",
    "\n",
    "    def save_model(self, loss):\n",
    "        path = f'model_{loss:.3f}.ckpt'\n",
    "        return self.save(path)\n",
    "\n",
    "\n",
    "if __name__ == '__main__':\n",
    "    config = config()\n",
    "    same_seed(config.seed)\n",
    "    # print(pd.DataFrame([config.__dict__]))\n",
    "    # print(config.save('model.ckpt'))\n",
    "    # exit(0)\n",
    "    print(config.device)\n",
    "    # 55000张训练集，5000张验证集\n",
    "    # 训练集图片对应的标签\n",
    "    # 10000张测试集\n",
    "    # 测试集图片对应的标签\n",
    "\n",
    "    #===data processing===\n",
    "    # 将原数据<class 'PIL.Image.Image'>转成tensor\n",
    "    train_data = datasets.MNIST(root='./', train=True, download=True,transform=transforms.ToTensor())\n",
    "    test_data = datasets.MNIST(root='./', train=False, download=True,transform=transforms.ToTensor())\n",
    "\n",
    "    x_train = train_data.data.numpy()\n",
    "    y_train = train_data.targets.numpy()\n",
    "\n",
    "    x_train, y_train, x_valid, y_valid = split(x_train, y_train,config.valid_ratio)\n",
    "\n",
    "    for i in range(12):\n",
    "        plt.subplot(3, 4, i + 1)\n",
    "        plt.tight_layout()  # 自动调整子图参数\n",
    "        plt.imshow(x_train[i], cmap='gray')\n",
    "        plt.title('label:{}'.format(y_train[i]))\n",
    "        plt.xticks([])\n",
    "        plt.yticks([])\n",
    "    # plt.show()\n",
    "\n",
    "    train_dataset = TensorDataset(x_train, y_train)\n",
    "    valid_dataset = TensorDataset(x_valid, y_valid)\n",
    "\n",
    "    train_loader = DataLoader(train_data,\n",
    "                              batch_size=config.batch_size,\n",
    "                              shuffle=True,\n",
    "                              pin_memory=True,\n",
    "                              drop_last=True)\n",
    "    valid_loader = DataLoader(valid_dataset,\n",
    "                              batch_size=config.batch_size,\n",
    "                              shuffle=True,\n",
    "                              pin_memory=True,\n",
    "                              drop_last=True)\n",
    "\n",
    "    #===training===\n",
    "    model = MyModel().to(config.device)\n",
    "    print(model)\n",
    "    train_loss, valid_loss, best_loss = trainer(train_loader, valid_loader,model)\n",
    "\n",
    "    #===plot loss===\n",
    "    loss_plot(train_loss, valid_loss)\n",
    "\n",
    "    #===predict===\n",
    "    model = MyModel().to(config.device)\n",
    "    # model.load_state_dict(torch.load(config.save('model.ckpt')))\n",
    "    model.load_state_dict(torch.load(config.save_model(best_loss)))\n",
    "    y_test = predict(test_data, model)\n",
    "    df = pd.DataFrame(y_test, columns=['test_predict'])\n",
    "    # df.to_csv('test_predict.csv')\n"
   ]
  },
  {
   "cell_type": "markdown",
   "metadata": {},
   "source": [
    "https://zhuanlan.zhihu.com/p/77471991"
   ]
  },
  {
   "cell_type": "code",
   "execution_count": null,
   "metadata": {},
   "outputs": [],
   "source": [
    "def trainer(train_loader, valid_loader, model):\n",
    "    #===prepare===\n",
    "    criterion = torch.nn.CrossEntropyLoss()\n",
    "    optimizer = torch.optim.SGD(model.parameters(), lr=config.learning_rate)\n",
    "    best_loss = math.inf\n",
    "    record_train_loss = []\n",
    "    record_valid_loss = []\n",
    "\n",
    "    for epoch in range(config.n_epoches):\n",
    "        #===train mode===\n",
    "        model.train()\n",
    "        loss_record = []\n",
    "        train_loop = tqdm(train_loader, position=0, ncols=100, leave=False)\n",
    "        for i, (x, y) in enumerate(train_loop):\n",
    "            print(i,x,y)\n",
    "            exit(0)\n",
    "            x, y = x.to(config.device), y.to(config.device)\n",
    "            y_pred = model(x)\n",
    "            loss = criterion(y_pred, y)\n",
    "            # 清零梯度，反向传播，更新权重\n",
    "            optimizer.zero_grad()\n",
    "            loss.backward()\n",
    "            optimizer.step()\n",
    "            # 进度条设置\n",
    "            train_loop.set_description(f'Epoch [{epoch}/{config.n_epoches}]')\n",
    "            train_loop.set_postfix({'loss': loss.item()})\n",
    "            loss_record.append(loss.item())\n",
    "        record_train_loss.append(np.mean(loss_record))\n",
    "\n",
    "        #===evaluate mode===\n",
    "        model.eval()\n",
    "        loss_record = []\n",
    "        for x, y in valid_loader:\n",
    "            x, y = x.to(config.device), y.to(config.device)\n",
    "            with torch.no_grad():  # 减少内存损耗\n",
    "                pred = model(x)\n",
    "                loss = criterion(pred, y)\n",
    "            loss_record.append(loss.item())\n",
    "        record_valid_loss.append(np.mean(loss_record))\n",
    "\n",
    "        #===early stopping===\n",
    "        if record_valid_loss[-1] < best_loss:\n",
    "            best_loss = record_valid_loss[-1]\n",
    "            print(f'Now model with loss {best_loss:.3f}... from epoch {epoch}')\n",
    "            early_stop_count = 0\n",
    "        else:\n",
    "            early_stop_count += 1\n",
    "        if early_stop_count >= config.early_stop:\n",
    "            print(f'Model is not improving for {config.early_stop} epoches. The last epoch is {epoch}.')\n",
    "            break\n",
    "    torch.save(model.state_dict(), config.save_model(best_loss))\n",
    "    print(f'Saving model with loss {best_loss:.3f}... from epoch {epoch}')\n",
    "    return record_train_loss, record_valid_loss, best_loss\n",
    "train_loss, valid_loss, best_loss = trainer(train_loader, valid_loader,model)"
   ]
  },
  {
   "cell_type": "code",
   "execution_count": null,
   "metadata": {},
   "outputs": [],
   "source": [
    "https://blog.csdn.net/AugustMe/article/details/94854890"
   ]
  }
 ],
 "metadata": {
  "kernelspec": {
   "display_name": "Python 3.8.10 64-bit",
   "language": "python",
   "name": "python3"
  },
  "language_info": {
   "codemirror_mode": {
    "name": "ipython",
    "version": 3
   },
   "file_extension": ".py",
   "mimetype": "text/x-python",
   "name": "python",
   "nbconvert_exporter": "python",
   "pygments_lexer": "ipython3",
   "version": "3.11.6"
  },
  "orig_nbformat": 4,
  "vscode": {
   "interpreter": {
    "hash": "570feb405e2e27c949193ac68f46852414290d515b0ba6e5d90d076ed2284471"
   }
  }
 },
 "nbformat": 4,
 "nbformat_minor": 2
}
